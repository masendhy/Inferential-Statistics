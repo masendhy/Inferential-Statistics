{
 "cells": [
  {
   "cell_type": "markdown",
   "metadata": {
    "id": "_LQQLB6Q7ka6"
   },
   "source": [
    "# Import Library"
   ]
  },
  {
   "cell_type": "code",
   "execution_count": 3,
   "metadata": {
    "colab": {
     "base_uri": "https://localhost:8080/"
    },
    "executionInfo": {
     "elapsed": 1274,
     "status": "ok",
     "timestamp": 1638680113297,
     "user": {
      "displayName": "Abdullah Ghifari",
      "photoUrl": "https://lh3.googleusercontent.com/a-/AOh14Gi_wxBHhERLa5vUWkqgMzTiwmVI3rz_PbwpPfG8=s64",
      "userId": "10253831078468040701"
     },
     "user_tz": -420
    },
    "id": "DT7FK8J77ka-",
    "outputId": "df777044-4957-42e8-c381-0cea9cca4cfb"
   },
   "outputs": [],
   "source": [
    "import pandas as pd\n",
    "import numpy as np\n",
    "import statsmodels.stats.proportion as sp #untuk test uji proporsi presentasi\n",
    "\n",
    "import seaborn as sns"
   ]
  },
  {
   "cell_type": "markdown",
   "metadata": {
    "id": "h3GKiye_7ka_"
   },
   "source": [
    "# AB Testing / Experimental Design"
   ]
  },
  {
   "cell_type": "markdown",
   "metadata": {
    "id": "BQnGFrHQ7kbA"
   },
   "source": [
    "## Import Dataset"
   ]
  },
  {
   "cell_type": "code",
   "execution_count": 4,
   "metadata": {
    "id": "KAQ74oOD7kbA"
   },
   "outputs": [],
   "source": [
    "df_abtest = pd.read_csv('ab_data.csv')"
   ]
  },
  {
   "cell_type": "code",
   "execution_count": 5,
   "metadata": {
    "id": "R5UP5X5b7kbA",
    "outputId": "e93ef2bf-389a-4e6c-f3c9-0ff872eb2dbf"
   },
   "outputs": [
    {
     "data": {
      "text/html": [
       "<div>\n",
       "<style scoped>\n",
       "    .dataframe tbody tr th:only-of-type {\n",
       "        vertical-align: middle;\n",
       "    }\n",
       "\n",
       "    .dataframe tbody tr th {\n",
       "        vertical-align: top;\n",
       "    }\n",
       "\n",
       "    .dataframe thead th {\n",
       "        text-align: right;\n",
       "    }\n",
       "</style>\n",
       "<table border=\"1\" class=\"dataframe\">\n",
       "  <thead>\n",
       "    <tr style=\"text-align: right;\">\n",
       "      <th></th>\n",
       "      <th>user_id</th>\n",
       "      <th>timestamp</th>\n",
       "      <th>group</th>\n",
       "      <th>landing_page</th>\n",
       "      <th>converted</th>\n",
       "    </tr>\n",
       "  </thead>\n",
       "  <tbody>\n",
       "    <tr>\n",
       "      <th>0</th>\n",
       "      <td>851104</td>\n",
       "      <td>2017-01-21 22:11:48.556739</td>\n",
       "      <td>control</td>\n",
       "      <td>old_page</td>\n",
       "      <td>0</td>\n",
       "    </tr>\n",
       "    <tr>\n",
       "      <th>1</th>\n",
       "      <td>804228</td>\n",
       "      <td>2017-01-12 08:01:45.159739</td>\n",
       "      <td>control</td>\n",
       "      <td>old_page</td>\n",
       "      <td>0</td>\n",
       "    </tr>\n",
       "    <tr>\n",
       "      <th>2</th>\n",
       "      <td>661590</td>\n",
       "      <td>2017-01-11 16:55:06.154213</td>\n",
       "      <td>treatment</td>\n",
       "      <td>new_page</td>\n",
       "      <td>0</td>\n",
       "    </tr>\n",
       "    <tr>\n",
       "      <th>3</th>\n",
       "      <td>853541</td>\n",
       "      <td>2017-01-08 18:28:03.143765</td>\n",
       "      <td>treatment</td>\n",
       "      <td>new_page</td>\n",
       "      <td>0</td>\n",
       "    </tr>\n",
       "    <tr>\n",
       "      <th>4</th>\n",
       "      <td>864975</td>\n",
       "      <td>2017-01-21 01:52:26.210827</td>\n",
       "      <td>control</td>\n",
       "      <td>old_page</td>\n",
       "      <td>1</td>\n",
       "    </tr>\n",
       "  </tbody>\n",
       "</table>\n",
       "</div>"
      ],
      "text/plain": [
       "   user_id                   timestamp      group landing_page  converted\n",
       "0   851104  2017-01-21 22:11:48.556739    control     old_page          0\n",
       "1   804228  2017-01-12 08:01:45.159739    control     old_page          0\n",
       "2   661590  2017-01-11 16:55:06.154213  treatment     new_page          0\n",
       "3   853541  2017-01-08 18:28:03.143765  treatment     new_page          0\n",
       "4   864975  2017-01-21 01:52:26.210827    control     old_page          1"
      ]
     },
     "execution_count": 5,
     "metadata": {},
     "output_type": "execute_result"
    }
   ],
   "source": [
    "df_abtest.head()"
   ]
  },
  {
   "cell_type": "code",
   "execution_count": 7,
   "metadata": {
    "id": "v2T9ZcY57kbB",
    "outputId": "188caa0f-8c63-4a8d-b934-d38b5f5c4a68"
   },
   "outputs": [
    {
     "data": {
      "text/plain": [
       "(294478, 5)"
      ]
     },
     "execution_count": 7,
     "metadata": {},
     "output_type": "execute_result"
    }
   ],
   "source": [
    "df_abtest.shape # melihat ukuran data(terdapat 5 kolom)"
   ]
  },
  {
   "cell_type": "markdown",
   "metadata": {},
   "source": [
    "## Langkah 1"
   ]
  },
  {
   "cell_type": "markdown",
   "metadata": {},
   "source": [
    "### definisikan hipotesisnya\n",
    "\n",
    "H0 : Old design memiliki CTR yang **sama** dengan New Design <br>\n",
    "H1 : Old design memiliki CTR yang **berdeda** dengan New Design"
   ]
  },
  {
   "cell_type": "markdown",
   "metadata": {},
   "source": [
    "## Langkah 2\n",
    "lihat nilai nilai statistik nya saja"
   ]
  },
  {
   "cell_type": "markdown",
   "metadata": {
    "id": "X3k-seXC7kbC"
   },
   "source": [
    "### Separate Control and Treatment Dataset"
   ]
  },
  {
   "cell_type": "code",
   "execution_count": 9,
   "metadata": {
    "id": "5S-yOduf7kbD"
   },
   "outputs": [],
   "source": [
    "control = df_abtest[df_abtest['group']=='control']\n",
    "treatment = df_abtest[df_abtest['group']=='treatment']"
   ]
  },
  {
   "cell_type": "code",
   "execution_count": null,
   "metadata": {
    "id": "VH_41D047kbD",
    "outputId": "3a2d7fef-b266-4476-d1dc-755adbf609f0"
   },
   "outputs": [
    {
     "data": {
      "text/plain": [
       "(147202, 5)"
      ]
     },
     "execution_count": 15,
     "metadata": {},
     "output_type": "execute_result"
    }
   ],
   "source": [
    "control.shape"
   ]
  },
  {
   "cell_type": "code",
   "execution_count": null,
   "metadata": {
    "id": "kBI0yqFx7kbE",
    "outputId": "a050aecb-a683-4190-e4ad-c14a420e11ad"
   },
   "outputs": [
    {
     "data": {
      "text/plain": [
       "(147276, 5)"
      ]
     },
     "execution_count": 16,
     "metadata": {},
     "output_type": "execute_result"
    }
   ],
   "source": [
    "treatment.shape"
   ]
  },
  {
   "cell_type": "markdown",
   "metadata": {
    "id": "46-MNL7G7kbE"
   },
   "source": [
    "### Calculate Number of Success and Number of Observation"
   ]
  },
  {
   "cell_type": "code",
   "execution_count": 15,
   "metadata": {
    "id": "tYrpYs4K7kbF"
   },
   "outputs": [],
   "source": [
    "n_success_control = control['converted'].sum()\n",
    "n_success_treatment = treatment['converted'].sum()\n",
    "\n",
    "n_obs_control = control['converted'].count() # dapat juga menggunakan .shape[0]\n",
    "n_obs_treatment = treatment['converted'].count()"
   ]
  },
  {
   "cell_type": "code",
   "execution_count": null,
   "metadata": {
    "id": "Lj_jS3mn7kbF",
    "outputId": "2e015292-6653-4adc-c2e6-a113b2fccf6e"
   },
   "outputs": [
    {
     "name": "stdout",
     "output_type": "stream",
     "text": [
      "17723\n"
     ]
    }
   ],
   "source": [
    "print(n_success_control)"
   ]
  },
  {
   "cell_type": "code",
   "execution_count": null,
   "metadata": {
    "id": "VvacHWz37kbF",
    "outputId": "6499d921-91d4-44c8-a9a4-90b835a74408"
   },
   "outputs": [
    {
     "name": "stdout",
     "output_type": "stream",
     "text": [
      "17514\n"
     ]
    }
   ],
   "source": [
    "print(n_success_treatment)"
   ]
  },
  {
   "cell_type": "code",
   "execution_count": 12,
   "metadata": {},
   "outputs": [
    {
     "name": "stdout",
     "output_type": "stream",
     "text": [
      "147202\n"
     ]
    }
   ],
   "source": [
    "print(n_obs_control)"
   ]
  },
  {
   "cell_type": "code",
   "execution_count": 13,
   "metadata": {},
   "outputs": [],
   "source": [
    "control_obs = control.shape[0]"
   ]
  },
  {
   "cell_type": "code",
   "execution_count": 14,
   "metadata": {},
   "outputs": [
    {
     "name": "stdout",
     "output_type": "stream",
     "text": [
      "147202\n"
     ]
    }
   ],
   "source": [
    "print(control_obs)"
   ]
  },
  {
   "cell_type": "markdown",
   "metadata": {
    "id": "oHbXR__m7kbG"
   },
   "source": [
    "### Calculate Descriptive Statistics"
   ]
  },
  {
   "cell_type": "code",
   "execution_count": 16,
   "metadata": {
    "id": "sZii82Xa7kbG"
   },
   "outputs": [],
   "source": [
    "control_conversion_rate = n_success_control/n_obs_control\n",
    "treatment_conversion_rate = n_success_treatment/n_obs_treatment"
   ]
  },
  {
   "cell_type": "code",
   "execution_count": 17,
   "metadata": {
    "id": "-XtxfA287kbG",
    "outputId": "e31d5b65-5343-47e2-c494-1fbedf3aeee7"
   },
   "outputs": [
    {
     "name": "stdout",
     "output_type": "stream",
     "text": [
      "Conversion Rate from Control : 0.1204\n",
      "Conversion Rate from Treatment : 0.1189\n"
     ]
    }
   ],
   "source": [
    "print('Conversion Rate from Control : {0:0.4f}'.format(control_conversion_rate))\n",
    "print('Conversion Rate from Treatment : {0:0.4f}'.format(treatment_conversion_rate))"
   ]
  },
  {
   "cell_type": "code",
   "execution_count": null,
   "metadata": {
    "id": "WVeO9_z67kbG",
    "outputId": "c45dd51a-45aa-461f-b96e-726e3b6e33c5"
   },
   "outputs": [
    {
     "data": {
      "text/plain": [
       "(0.118, 0.1205)"
      ]
     },
     "execution_count": 23,
     "metadata": {},
     "output_type": "execute_result"
    },
    {
     "data": {
      "image/png": "[encoded data removed]",
      "text/plain": [
       "<Figure size 432x288 with 1 Axes>"
      ]
     },
     "metadata": {
      "needs_background": "light"
     },
     "output_type": "display_data"
    }
   ],
   "source": [
    "x = ['control','treatment']\n",
    "value = [control_conversion_rate,treatment_conversion_rate]\n",
    "plt.bar(x,value)\n",
    "\n",
    "plt.ylim(0.118,0.1205)"
   ]
  },
  {
   "cell_type": "markdown",
   "metadata": {},
   "source": [
    "## Langkah 3"
   ]
  },
  {
   "cell_type": "markdown",
   "metadata": {
    "id": "3lJQd03-7kbH"
   },
   "source": [
    "***is the difference significance?*** <br>\n",
    "\n",
    "### Do Hypothesis Testing"
   ]
  },
  {
   "cell_type": "code",
   "execution_count": 20,
   "metadata": {
    "id": "91pQB-kL7kbH"
   },
   "outputs": [],
   "source": [
    "## making array\n",
    "success = np.array([n_success_control,n_success_treatment])\n",
    "obs = np.array([n_obs_control,n_obs_treatment])"
   ]
  },
  {
   "cell_type": "markdown",
   "metadata": {
    "id": "doAW9ISo7kbH"
   },
   "source": [
    "H0: existing design and new design **have same** conversion rate <br>\n",
    "H1: existing design and new design **do not have same** conversion rate"
   ]
  },
  {
   "cell_type": "code",
   "execution_count": 21,
   "metadata": {
    "executionInfo": {
     "elapsed": 320,
     "status": "ok",
     "timestamp": 1638680120033,
     "user": {
      "displayName": "Abdullah Ghifari",
      "photoUrl": "https://lh3.googleusercontent.com/a-/AOh14Gi_wxBHhERLa5vUWkqgMzTiwmVI3rz_PbwpPfG8=s64",
      "userId": "10253831078468040701"
     },
     "user_tz": -420
    },
    "id": "Y-JhSSDX8Yuq"
   },
   "outputs": [
    {
     "data": {
      "text/plain": [
       "\u001b[0;31mSignature:\u001b[0m\n",
       "\u001b[0msp\u001b[0m\u001b[0;34m.\u001b[0m\u001b[0mproportions_ztest\u001b[0m\u001b[0;34m(\u001b[0m\u001b[0;34m\u001b[0m\n",
       "\u001b[0;34m\u001b[0m    \u001b[0mcount\u001b[0m\u001b[0;34m,\u001b[0m\u001b[0;34m\u001b[0m\n",
       "\u001b[0;34m\u001b[0m    \u001b[0mnobs\u001b[0m\u001b[0;34m,\u001b[0m\u001b[0;34m\u001b[0m\n",
       "\u001b[0;34m\u001b[0m    \u001b[0mvalue\u001b[0m\u001b[0;34m=\u001b[0m\u001b[0;32mNone\u001b[0m\u001b[0;34m,\u001b[0m\u001b[0;34m\u001b[0m\n",
       "\u001b[0;34m\u001b[0m    \u001b[0malternative\u001b[0m\u001b[0;34m=\u001b[0m\u001b[0;34m'two-sided'\u001b[0m\u001b[0;34m,\u001b[0m\u001b[0;34m\u001b[0m\n",
       "\u001b[0;34m\u001b[0m    \u001b[0mprop_var\u001b[0m\u001b[0;34m=\u001b[0m\u001b[0;32mFalse\u001b[0m\u001b[0;34m,\u001b[0m\u001b[0;34m\u001b[0m\n",
       "\u001b[0;34m\u001b[0m\u001b[0;34m)\u001b[0m\u001b[0;34m\u001b[0m\u001b[0;34m\u001b[0m\u001b[0m\n",
       "\u001b[0;31mDocstring:\u001b[0m\n",
       "Test for proportions based on normal (z) test\n",
       "\n",
       "Parameters\n",
       "----------\n",
       "count : {int, array_like}\n",
       "    the number of successes in nobs trials. If this is array_like, then\n",
       "    the assumption is that this represents the number of successes for\n",
       "    each independent sample\n",
       "nobs : {int, array_like}\n",
       "    the number of trials or observations, with the same length as\n",
       "    count.\n",
       "value : float, array_like or None, optional\n",
       "    This is the value of the null hypothesis equal to the proportion in the\n",
       "    case of a one sample test. In the case of a two-sample test, the\n",
       "    null hypothesis is that prop[0] - prop[1] = value, where prop is the\n",
       "    proportion in the two samples. If not provided value = 0 and the null\n",
       "    is prop[0] = prop[1]\n",
       "alternative : str in ['two-sided', 'smaller', 'larger']\n",
       "    The alternative hypothesis can be either two-sided or one of the one-\n",
       "    sided tests, smaller means that the alternative hypothesis is\n",
       "    ``prop < value`` and larger means ``prop > value``. In the two sample\n",
       "    test, smaller means that the alternative hypothesis is ``p1 < p2`` and\n",
       "    larger means ``p1 > p2`` where ``p1`` is the proportion of the first\n",
       "    sample and ``p2`` of the second one.\n",
       "prop_var : False or float in (0, 1)\n",
       "    If prop_var is false, then the variance of the proportion estimate is\n",
       "    calculated based on the sample proportion. Alternatively, a proportion\n",
       "    can be specified to calculate this variance. Common use case is to\n",
       "    use the proportion under the Null hypothesis to specify the variance\n",
       "    of the proportion estimate.\n",
       "\n",
       "Returns\n",
       "-------\n",
       "zstat : float\n",
       "    test statistic for the z-test\n",
       "p-value : float\n",
       "    p-value for the z-test\n",
       "\n",
       "Examples\n",
       "--------\n",
       ">>> count = 5\n",
       ">>> nobs = 83\n",
       ">>> value = .05\n",
       ">>> stat, pval = proportions_ztest(count, nobs, value)\n",
       ">>> print('{0:0.3f}'.format(pval))\n",
       "0.695\n",
       "\n",
       ">>> import numpy as np\n",
       ">>> from statsmodels.stats.proportion import proportions_ztest\n",
       ">>> count = np.array([5, 12])\n",
       ">>> nobs = np.array([83, 99])\n",
       ">>> stat, pval = proportions_ztest(count, nobs)\n",
       ">>> print('{0:0.3f}'.format(pval))\n",
       "0.159\n",
       "\n",
       "Notes\n",
       "-----\n",
       "This uses a simple normal test for proportions. It should be the same as\n",
       "running the mean z-test on the data encoded 1 for event and 0 for no event\n",
       "so that the sum corresponds to the count.\n",
       "\n",
       "In the one and two sample cases with two-sided alternative, this test\n",
       "produces the same p-value as ``proportions_chisquare``, since the\n",
       "chisquare is the distribution of the square of a standard normal\n",
       "distribution.\n",
       "\u001b[0;31mFile:\u001b[0m      ~/opt/anaconda3/lib/python3.9/site-packages/statsmodels/stats/proportion.py\n",
       "\u001b[0;31mType:\u001b[0m      function\n"
      ]
     },
     "metadata": {},
     "output_type": "display_data"
    }
   ],
   "source": [
    "?sp.proportions_ztest"
   ]
  },
  {
   "cell_type": "code",
   "execution_count": 22,
   "metadata": {
    "id": "sXH2oxuY7kbH"
   },
   "outputs": [],
   "source": [
    "stats,pvalue = sp.proportions_ztest(success,obs)"
   ]
  },
  {
   "cell_type": "code",
   "execution_count": 24,
   "metadata": {
    "id": "htvgC69x7kbI",
    "outputId": "05863561-490a-41df-bdc0-0d2dfbb1c6fe"
   },
   "outputs": [
    {
     "name": "stdout",
     "output_type": "stream",
     "text": [
      "P-Value : 0.2161\n",
      "Terima H0 : artinya new design ataupun old design **tidak memiliki** perbedaan secara signifikan pada CTR\n"
     ]
    }
   ],
   "source": [
    "print('P-Value : {0:0.4f}'.format(pvalue))\n",
    "if pvalue >= 0.05:\n",
    "    print('Terima H0 : artinya new design ataupun old design **tidak memiliki** perbedaan secara signifikan pada CTR')\n",
    "else :\n",
    "    print('Terima H1 : artinya new design ataupun old design **memiliki** perbedaan secara signifikan pada CTR')"
   ]
  },
  {
   "cell_type": "code",
   "execution_count": null,
   "metadata": {},
   "outputs": [],
   "source": []
  }
 ],
 "metadata": {
  "colab": {
   "name": "Statistics III - Experimental Design.ipynb",
   "provenance": []
  },
  "kernelspec": {
   "display_name": "Python 3 (ipykernel)",
   "language": "python",
   "name": "python3"
  },
  "language_info": {
   "codemirror_mode": {
    "name": "ipython",
    "version": 3
   },
   "file_extension": ".py",
   "mimetype": "text/x-python",
   "name": "python",
   "nbconvert_exporter": "python",
   "pygments_lexer": "ipython3",
   "version": "3.9.13"
  }
 },
 "nbformat": 4,
 "nbformat_minor": 4
}
