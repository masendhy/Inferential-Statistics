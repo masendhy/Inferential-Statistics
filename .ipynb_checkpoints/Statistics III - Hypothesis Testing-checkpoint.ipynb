{
 "cells": [
  {
   "cell_type": "markdown",
   "metadata": {
    "id": "AU6pyBpS1Qsf"
   },
   "source": [
    "# Import Library"
   ]
  },
  {
   "cell_type": "code",
   "execution_count": 2,
   "metadata": {
    "executionInfo": {
     "elapsed": 1189,
     "status": "ok",
     "timestamp": 1638678267813,
     "user": {
      "displayName": "Abdullah Ghifari",
      "photoUrl": "https://lh3.googleusercontent.com/a-/AOh14Gi_wxBHhERLa5vUWkqgMzTiwmVI3rz_PbwpPfG8=s64",
      "userId": "10253831078468040701"
     },
     "user_tz": -420
    },
    "id": "ZQpL_A8v1Qsj"
   },
   "outputs": [],
   "source": [
    "import pandas as pd\n",
    "import numpy as np\n",
    "import scipy.stats as st # statiscal function"
   ]
  },
  {
   "cell_type": "markdown",
   "metadata": {
    "id": "SC_o6cmk1Qsk"
   },
   "source": [
    "# Read Dataset"
   ]
  },
  {
   "cell_type": "code",
   "execution_count": 3,
   "metadata": {
    "executionInfo": {
     "elapsed": 5,
     "status": "ok",
     "timestamp": 1638678270424,
     "user": {
      "displayName": "Abdullah Ghifari",
      "photoUrl": "https://lh3.googleusercontent.com/a-/AOh14Gi_wxBHhERLa5vUWkqgMzTiwmVI3rz_PbwpPfG8=s64",
      "userId": "10253831078468040701"
     },
     "user_tz": -420
    },
    "id": "xuxfMOEV1Qsl"
   },
   "outputs": [],
   "source": [
    "df = pd.read_csv('e-commerce_example_dataset.csv')"
   ]
  },
  {
   "cell_type": "code",
   "execution_count": 4,
   "metadata": {
    "colab": {
     "base_uri": "https://localhost:8080/"
    },
    "executionInfo": {
     "elapsed": 6,
     "status": "ok",
     "timestamp": 1638678271945,
     "user": {
      "displayName": "Abdullah Ghifari",
      "photoUrl": "https://lh3.googleusercontent.com/a-/AOh14Gi_wxBHhERLa5vUWkqgMzTiwmVI3rz_PbwpPfG8=s64",
      "userId": "10253831078468040701"
     },
     "user_tz": -420
    },
    "id": "OR6iFiuu1Qsl",
    "outputId": "88171e39-c7a1-48a6-b2dc-10224c528985"
   },
   "outputs": [
    {
     "data": {
      "text/plain": [
       "(100, 3)"
      ]
     },
     "execution_count": 4,
     "metadata": {},
     "output_type": "execute_result"
    }
   ],
   "source": [
    "df.shape"
   ]
  },
  {
   "cell_type": "code",
   "execution_count": 6,
   "metadata": {
    "colab": {
     "base_uri": "https://localhost:8080/",
     "height": 206
    },
    "executionInfo": {
     "elapsed": 296,
     "status": "ok",
     "timestamp": 1638678279951,
     "user": {
      "displayName": "Abdullah Ghifari",
      "photoUrl": "https://lh3.googleusercontent.com/a-/AOh14Gi_wxBHhERLa5vUWkqgMzTiwmVI3rz_PbwpPfG8=s64",
      "userId": "10253831078468040701"
     },
     "user_tz": -420
    },
    "id": "cwzbqj9-1ikK",
    "outputId": "6f12af57-2404-49f7-f2cf-9e4d622aeb37"
   },
   "outputs": [
    {
     "data": {
      "text/html": [
       "<div>\n",
       "<style scoped>\n",
       "    .dataframe tbody tr th:only-of-type {\n",
       "        vertical-align: middle;\n",
       "    }\n",
       "\n",
       "    .dataframe tbody tr th {\n",
       "        vertical-align: top;\n",
       "    }\n",
       "\n",
       "    .dataframe thead th {\n",
       "        text-align: right;\n",
       "    }\n",
       "</style>\n",
       "<table border=\"1\" class=\"dataframe\">\n",
       "  <thead>\n",
       "    <tr style=\"text-align: right;\">\n",
       "      <th></th>\n",
       "      <th>gmv</th>\n",
       "      <th>discount</th>\n",
       "      <th>user_id</th>\n",
       "    </tr>\n",
       "  </thead>\n",
       "  <tbody>\n",
       "    <tr>\n",
       "      <th>0</th>\n",
       "      <td>1324911</td>\n",
       "      <td>not-discount</td>\n",
       "      <td>1</td>\n",
       "    </tr>\n",
       "    <tr>\n",
       "      <th>1</th>\n",
       "      <td>1625874</td>\n",
       "      <td>not-discount</td>\n",
       "      <td>2</td>\n",
       "    </tr>\n",
       "    <tr>\n",
       "      <th>2</th>\n",
       "      <td>1432984</td>\n",
       "      <td>not-discount</td>\n",
       "      <td>3</td>\n",
       "    </tr>\n",
       "    <tr>\n",
       "      <th>3</th>\n",
       "      <td>1294427</td>\n",
       "      <td>not-discount</td>\n",
       "      <td>4</td>\n",
       "    </tr>\n",
       "    <tr>\n",
       "      <th>4</th>\n",
       "      <td>1635693</td>\n",
       "      <td>not-discount</td>\n",
       "      <td>5</td>\n",
       "    </tr>\n",
       "  </tbody>\n",
       "</table>\n",
       "</div>"
      ],
      "text/plain": [
       "       gmv      discount  user_id\n",
       "0  1324911  not-discount        1\n",
       "1  1625874  not-discount        2\n",
       "2  1432984  not-discount        3\n",
       "3  1294427  not-discount        4\n",
       "4  1635693  not-discount        5"
      ]
     },
     "execution_count": 6,
     "metadata": {},
     "output_type": "execute_result"
    }
   ],
   "source": [
    "df.head()"
   ]
  },
  {
   "cell_type": "code",
   "execution_count": 7,
   "metadata": {
    "id": "FSogpfPu1Qsm",
    "outputId": "205b451f-2c6b-41ec-c5a8-019758858384"
   },
   "outputs": [
    {
     "data": {
      "text/plain": [
       "discount        65\n",
       "not-discount    35\n",
       "Name: discount, dtype: int64"
      ]
     },
     "execution_count": 7,
     "metadata": {},
     "output_type": "execute_result"
    }
   ],
   "source": [
    "df['discount'].value_counts()"
   ]
  },
  {
   "cell_type": "code",
   "execution_count": null,
   "metadata": {
    "id": "LvuUMLJG1Qsm",
    "outputId": "ff9e8899-4b9c-4660-9e39-a5bdc870e91b"
   },
   "outputs": [
    {
     "data": {
      "text/html": [
       "<div>\n",
       "<style scoped>\n",
       "    .dataframe tbody tr th:only-of-type {\n",
       "        vertical-align: middle;\n",
       "    }\n",
       "\n",
       "    .dataframe tbody tr th {\n",
       "        vertical-align: top;\n",
       "    }\n",
       "\n",
       "    .dataframe thead th {\n",
       "        text-align: right;\n",
       "    }\n",
       "</style>\n",
       "<table border=\"1\" class=\"dataframe\">\n",
       "  <thead>\n",
       "    <tr style=\"text-align: right;\">\n",
       "      <th></th>\n",
       "      <th>gmv</th>\n",
       "      <th>discount</th>\n",
       "      <th>user_id</th>\n",
       "    </tr>\n",
       "  </thead>\n",
       "  <tbody>\n",
       "    <tr>\n",
       "      <th>0</th>\n",
       "      <td>1324911</td>\n",
       "      <td>not-discount</td>\n",
       "      <td>1</td>\n",
       "    </tr>\n",
       "    <tr>\n",
       "      <th>1</th>\n",
       "      <td>1625874</td>\n",
       "      <td>not-discount</td>\n",
       "      <td>2</td>\n",
       "    </tr>\n",
       "    <tr>\n",
       "      <th>2</th>\n",
       "      <td>1432984</td>\n",
       "      <td>not-discount</td>\n",
       "      <td>3</td>\n",
       "    </tr>\n",
       "    <tr>\n",
       "      <th>3</th>\n",
       "      <td>1294427</td>\n",
       "      <td>not-discount</td>\n",
       "      <td>4</td>\n",
       "    </tr>\n",
       "    <tr>\n",
       "      <th>4</th>\n",
       "      <td>1635693</td>\n",
       "      <td>not-discount</td>\n",
       "      <td>5</td>\n",
       "    </tr>\n",
       "  </tbody>\n",
       "</table>\n",
       "</div>"
      ],
      "text/plain": [
       "       gmv      discount  user_id\n",
       "0  1324911  not-discount        1\n",
       "1  1625874  not-discount        2\n",
       "2  1432984  not-discount        3\n",
       "3  1294427  not-discount        4\n",
       "4  1635693  not-discount        5"
      ]
     },
     "execution_count": 5,
     "metadata": {},
     "output_type": "execute_result"
    }
   ],
   "source": [
    "df.head()"
   ]
  },
  {
   "cell_type": "markdown",
   "metadata": {
    "id": "5rAMBLCG1Qsn"
   },
   "source": [
    "# Langkah 1"
   ]
  },
  {
   "cell_type": "markdown",
   "metadata": {
    "id": "whoyAa4U1Qso"
   },
   "source": [
    "Apakah rata rata gmv discount > gmv non-discount"
   ]
  },
  {
   "cell_type": "markdown",
   "metadata": {
    "id": "U4G9uwyL1Qso"
   },
   "source": [
    "H0 : rata-rata gmv discount **sama dengan atau kurang dari** gmv non-discount <br>\n",
    "H1 : rata-rata gmv discount **lebih dari** gmv non-discount"
   ]
  },
  {
   "cell_type": "code",
   "execution_count": 8,
   "metadata": {
    "id": "UgcPwkSw1Qsp"
   },
   "outputs": [],
   "source": [
    "#?st.ttest_ind"
   ]
  },
  {
   "cell_type": "code",
   "execution_count": 9,
   "metadata": {
    "executionInfo": {
     "elapsed": 288,
     "status": "ok",
     "timestamp": 1638678398214,
     "user": {
      "displayName": "Abdullah Ghifari",
      "photoUrl": "https://lh3.googleusercontent.com/a-/AOh14Gi_wxBHhERLa5vUWkqgMzTiwmVI3rz_PbwpPfG8=s64",
      "userId": "10253831078468040701"
     },
     "user_tz": -420
    },
    "id": "vclUFePm1Qsp"
   },
   "outputs": [],
   "source": [
    "discount = df[df['discount']=='discount']\n",
    "not_discount = df[df['discount']!='discount']"
   ]
  },
  {
   "cell_type": "code",
   "execution_count": 10,
   "metadata": {
    "colab": {
     "base_uri": "https://localhost:8080/",
     "height": 206
    },
    "executionInfo": {
     "elapsed": 293,
     "status": "ok",
     "timestamp": 1638678401298,
     "user": {
      "displayName": "Abdullah Ghifari",
      "photoUrl": "https://lh3.googleusercontent.com/a-/AOh14Gi_wxBHhERLa5vUWkqgMzTiwmVI3rz_PbwpPfG8=s64",
      "userId": "10253831078468040701"
     },
     "user_tz": -420
    },
    "id": "1CNY59gi1Qsp",
    "outputId": "abe103db-0cd1-4c88-88c7-dc60ce66c3e3"
   },
   "outputs": [
    {
     "data": {
      "text/html": [
       "<div>\n",
       "<style scoped>\n",
       "    .dataframe tbody tr th:only-of-type {\n",
       "        vertical-align: middle;\n",
       "    }\n",
       "\n",
       "    .dataframe tbody tr th {\n",
       "        vertical-align: top;\n",
       "    }\n",
       "\n",
       "    .dataframe thead th {\n",
       "        text-align: right;\n",
       "    }\n",
       "</style>\n",
       "<table border=\"1\" class=\"dataframe\">\n",
       "  <thead>\n",
       "    <tr style=\"text-align: right;\">\n",
       "      <th></th>\n",
       "      <th>gmv</th>\n",
       "      <th>discount</th>\n",
       "      <th>user_id</th>\n",
       "    </tr>\n",
       "  </thead>\n",
       "  <tbody>\n",
       "    <tr>\n",
       "      <th>35</th>\n",
       "      <td>1915181</td>\n",
       "      <td>discount</td>\n",
       "      <td>36</td>\n",
       "    </tr>\n",
       "    <tr>\n",
       "      <th>36</th>\n",
       "      <td>1481660</td>\n",
       "      <td>discount</td>\n",
       "      <td>37</td>\n",
       "    </tr>\n",
       "    <tr>\n",
       "      <th>37</th>\n",
       "      <td>1517240</td>\n",
       "      <td>discount</td>\n",
       "      <td>38</td>\n",
       "    </tr>\n",
       "    <tr>\n",
       "      <th>38</th>\n",
       "      <td>1705569</td>\n",
       "      <td>discount</td>\n",
       "      <td>39</td>\n",
       "    </tr>\n",
       "    <tr>\n",
       "      <th>39</th>\n",
       "      <td>1571139</td>\n",
       "      <td>discount</td>\n",
       "      <td>40</td>\n",
       "    </tr>\n",
       "  </tbody>\n",
       "</table>\n",
       "</div>"
      ],
      "text/plain": [
       "        gmv  discount  user_id\n",
       "35  1915181  discount       36\n",
       "36  1481660  discount       37\n",
       "37  1517240  discount       38\n",
       "38  1705569  discount       39\n",
       "39  1571139  discount       40"
      ]
     },
     "execution_count": 10,
     "metadata": {},
     "output_type": "execute_result"
    }
   ],
   "source": [
    "discount.head()"
   ]
  },
  {
   "cell_type": "code",
   "execution_count": 7,
   "metadata": {
    "colab": {
     "base_uri": "https://localhost:8080/",
     "height": 206
    },
    "executionInfo": {
     "elapsed": 303,
     "status": "ok",
     "timestamp": 1638678407520,
     "user": {
      "displayName": "Abdullah Ghifari",
      "photoUrl": "https://lh3.googleusercontent.com/a-/AOh14Gi_wxBHhERLa5vUWkqgMzTiwmVI3rz_PbwpPfG8=s64",
      "userId": "10253831078468040701"
     },
     "user_tz": -420
    },
    "id": "FepenNnH1Qsq",
    "outputId": "e0e938c3-60e8-421b-9d70-789ecdc994a7"
   },
   "outputs": [
    {
     "data": {
      "text/html": [
       "<div>\n",
       "<style scoped>\n",
       "    .dataframe tbody tr th:only-of-type {\n",
       "        vertical-align: middle;\n",
       "    }\n",
       "\n",
       "    .dataframe tbody tr th {\n",
       "        vertical-align: top;\n",
       "    }\n",
       "\n",
       "    .dataframe thead th {\n",
       "        text-align: right;\n",
       "    }\n",
       "</style>\n",
       "<table border=\"1\" class=\"dataframe\">\n",
       "  <thead>\n",
       "    <tr style=\"text-align: right;\">\n",
       "      <th></th>\n",
       "      <th>gmv</th>\n",
       "      <th>discount</th>\n",
       "      <th>user_id</th>\n",
       "    </tr>\n",
       "  </thead>\n",
       "  <tbody>\n",
       "    <tr>\n",
       "      <th>0</th>\n",
       "      <td>1324911</td>\n",
       "      <td>not-discount</td>\n",
       "      <td>1</td>\n",
       "    </tr>\n",
       "    <tr>\n",
       "      <th>1</th>\n",
       "      <td>1625874</td>\n",
       "      <td>not-discount</td>\n",
       "      <td>2</td>\n",
       "    </tr>\n",
       "    <tr>\n",
       "      <th>2</th>\n",
       "      <td>1432984</td>\n",
       "      <td>not-discount</td>\n",
       "      <td>3</td>\n",
       "    </tr>\n",
       "    <tr>\n",
       "      <th>3</th>\n",
       "      <td>1294427</td>\n",
       "      <td>not-discount</td>\n",
       "      <td>4</td>\n",
       "    </tr>\n",
       "    <tr>\n",
       "      <th>4</th>\n",
       "      <td>1635693</td>\n",
       "      <td>not-discount</td>\n",
       "      <td>5</td>\n",
       "    </tr>\n",
       "  </tbody>\n",
       "</table>\n",
       "</div>"
      ],
      "text/plain": [
       "       gmv      discount  user_id\n",
       "0  1324911  not-discount        1\n",
       "1  1625874  not-discount        2\n",
       "2  1432984  not-discount        3\n",
       "3  1294427  not-discount        4\n",
       "4  1635693  not-discount        5"
      ]
     },
     "execution_count": 7,
     "metadata": {},
     "output_type": "execute_result"
    }
   ],
   "source": [
    "not_discount.head()"
   ]
  },
  {
   "cell_type": "markdown",
   "metadata": {
    "id": "OyX_qkMJ1Qsq"
   },
   "source": [
    "# Langkah 2"
   ]
  },
  {
   "cell_type": "code",
   "execution_count": 17,
   "metadata": {
    "colab": {
     "base_uri": "https://localhost:8080/"
    },
    "executionInfo": {
     "elapsed": 321,
     "status": "ok",
     "timestamp": 1638678880311,
     "user": {
      "displayName": "Abdullah Ghifari",
      "photoUrl": "https://lh3.googleusercontent.com/a-/AOh14Gi_wxBHhERLa5vUWkqgMzTiwmVI3rz_PbwpPfG8=s64",
      "userId": "10253831078468040701"
     },
     "user_tz": -420
    },
    "id": "uebLUYmc1Qsq",
    "outputId": "2633e22c-aa54-4dff-a37e-df0304776435"
   },
   "outputs": [
    {
     "data": {
      "text/plain": [
       "1624246.553846154"
      ]
     },
     "execution_count": 17,
     "metadata": {},
     "output_type": "execute_result"
    }
   ],
   "source": [
    "discount['gmv'].mean()"
   ]
  },
  {
   "cell_type": "code",
   "execution_count": 18,
   "metadata": {
    "colab": {
     "base_uri": "https://localhost:8080/"
    },
    "executionInfo": {
     "elapsed": 18,
     "status": "ok",
     "timestamp": 1638678880312,
     "user": {
      "displayName": "Abdullah Ghifari",
      "photoUrl": "https://lh3.googleusercontent.com/a-/AOh14Gi_wxBHhERLa5vUWkqgMzTiwmVI3rz_PbwpPfG8=s64",
      "userId": "10253831078468040701"
     },
     "user_tz": -420
    },
    "id": "_XKpubXr1Qsr",
    "outputId": "5a289820-a819-4960-bc09-08975878d3a0"
   },
   "outputs": [
    {
     "data": {
      "text/plain": [
       "1400420.4"
      ]
     },
     "execution_count": 18,
     "metadata": {},
     "output_type": "execute_result"
    }
   ],
   "source": [
    "not_discount['gmv'].mean()"
   ]
  },
  {
   "cell_type": "markdown",
   "metadata": {
    "id": "f8RnuBJx1Qsr"
   },
   "source": [
    "# Langkah 3 & 4"
   ]
  },
  {
   "cell_type": "code",
   "execution_count": 12,
   "metadata": {
    "executionInfo": {
     "elapsed": 15,
     "status": "ok",
     "timestamp": 1638678880313,
     "user": {
      "displayName": "Abdullah Ghifari",
      "photoUrl": "https://lh3.googleusercontent.com/a-/AOh14Gi_wxBHhERLa5vUWkqgMzTiwmVI3rz_PbwpPfG8=s64",
      "userId": "10253831078468040701"
     },
     "user_tz": -420
    },
    "id": "T0-SA_Ed2k3f"
   },
   "outputs": [
    {
     "ename": "TypeError",
     "evalue": "ttest_ind() missing 2 required positional arguments: 'a' and 'b'",
     "output_type": "error",
     "traceback": [
      "\u001b[0;31m---------------------------------------------------------------------------\u001b[0m",
      "\u001b[0;31mTypeError\u001b[0m                                 Traceback (most recent call last)",
      "\u001b[0;32m/var/folders/_v/w4n5bq8d4ln32c93xcpqrnxc0000gn/T/ipykernel_3688/1621348321.py\u001b[0m in \u001b[0;36m<module>\u001b[0;34m\u001b[0m\n\u001b[0;32m----> 1\u001b[0;31m \u001b[0mst\u001b[0m\u001b[0;34m.\u001b[0m\u001b[0mttest_ind\u001b[0m\u001b[0;34m(\u001b[0m\u001b[0;34m)\u001b[0m\u001b[0;34m\u001b[0m\u001b[0;34m\u001b[0m\u001b[0m\n\u001b[0m",
      "\u001b[0;31mTypeError\u001b[0m: ttest_ind() missing 2 required positional arguments: 'a' and 'b'"
     ]
    }
   ],
   "source": [
    "st.ttest_ind()"
   ]
  },
  {
   "cell_type": "code",
   "execution_count": 13,
   "metadata": {
    "colab": {
     "base_uri": "https://localhost:8080/"
    },
    "executionInfo": {
     "elapsed": 151,
     "status": "ok",
     "timestamp": 1638678880450,
     "user": {
      "displayName": "Abdullah Ghifari",
      "photoUrl": "https://lh3.googleusercontent.com/a-/AOh14Gi_wxBHhERLa5vUWkqgMzTiwmVI3rz_PbwpPfG8=s64",
      "userId": "10253831078468040701"
     },
     "user_tz": -420
    },
    "id": "q02oWWrs1Qsr",
    "outputId": "313f39bc-a36d-40c9-e505-1974582e7f53"
   },
   "outputs": [
    {
     "name": "stdout",
     "output_type": "stream",
     "text": [
      "P-Value : 0.0009942306670295464\n",
      "Cukup bukti menyatakan (Tolak H0) bahwa rata-rata gmv discount lebih dari gmv non-discount\n"
     ]
    }
   ],
   "source": [
    "# langkah 3\n",
    "ttest = st.ttest_ind(a = discount['gmv'], b=not_discount['gmv'])\n",
    "p_value = ttest.pvalue\n",
    "\n",
    "# langkah 4\n",
    "print('P-Value :',p_value)\n",
    "if p_value >= 0.05:\n",
    "    print('Tidak cukup bukti menyatakan bahwa rata-rata gmv discount lebih dari gmv non-discount')\n",
    "else:\n",
    "    print('Cukup bukti menyatakan (Tolak H0) bahwa rata-rata gmv discount lebih dari gmv non-discount')"
   ]
  },
  {
   "cell_type": "markdown",
   "metadata": {
    "id": "YE-9eV3F1Qss"
   },
   "source": [
    "# Case 2 ANOVA"
   ]
  },
  {
   "cell_type": "code",
   "execution_count": 15,
   "metadata": {
    "executionInfo": {
     "elapsed": 148,
     "status": "ok",
     "timestamp": 1638678880450,
     "user": {
      "displayName": "Abdullah Ghifari",
      "photoUrl": "https://lh3.googleusercontent.com/a-/AOh14Gi_wxBHhERLa5vUWkqgMzTiwmVI3rz_PbwpPfG8=s64",
      "userId": "10253831078468040701"
     },
     "user_tz": -420
    },
    "id": "wHbmd7NI1Qss"
   },
   "outputs": [],
   "source": [
    "df2 = pd.read_csv('Iris.csv')\n",
    "\n",
    "# Langkah 1\n",
    "# H0 : Rata-rata SepalWidthCm sama untuk semua species\n",
    "# H1 : Rata-rata SepalWidthCm berbeda untuk beberapa species\n",
    "\n",
    "# Langkah 2\n",
    "df_versicolor = df2[df2['Species'] == 'Iris-versicolor']\n",
    "df_setosa = df2[df2['Species'] == 'Iris-setosa']\n",
    "df_virginica = df2[df2['Species'] == 'Iris-virginica']"
   ]
  },
  {
   "cell_type": "code",
   "execution_count": 16,
   "metadata": {},
   "outputs": [
    {
     "data": {
      "text/html": [
       "<div>\n",
       "<style scoped>\n",
       "    .dataframe tbody tr th:only-of-type {\n",
       "        vertical-align: middle;\n",
       "    }\n",
       "\n",
       "    .dataframe tbody tr th {\n",
       "        vertical-align: top;\n",
       "    }\n",
       "\n",
       "    .dataframe thead th {\n",
       "        text-align: right;\n",
       "    }\n",
       "</style>\n",
       "<table border=\"1\" class=\"dataframe\">\n",
       "  <thead>\n",
       "    <tr style=\"text-align: right;\">\n",
       "      <th></th>\n",
       "      <th>Id</th>\n",
       "      <th>SepalLengthCm</th>\n",
       "      <th>SepalWidthCm</th>\n",
       "      <th>PetalLengthCm</th>\n",
       "      <th>PetalWidthCm</th>\n",
       "      <th>Species</th>\n",
       "    </tr>\n",
       "  </thead>\n",
       "  <tbody>\n",
       "    <tr>\n",
       "      <th>0</th>\n",
       "      <td>1</td>\n",
       "      <td>5.1</td>\n",
       "      <td>3.5</td>\n",
       "      <td>1.4</td>\n",
       "      <td>0.2</td>\n",
       "      <td>Iris-setosa</td>\n",
       "    </tr>\n",
       "    <tr>\n",
       "      <th>1</th>\n",
       "      <td>2</td>\n",
       "      <td>4.9</td>\n",
       "      <td>3.0</td>\n",
       "      <td>1.4</td>\n",
       "      <td>0.2</td>\n",
       "      <td>Iris-setosa</td>\n",
       "    </tr>\n",
       "    <tr>\n",
       "      <th>2</th>\n",
       "      <td>3</td>\n",
       "      <td>4.7</td>\n",
       "      <td>3.2</td>\n",
       "      <td>1.3</td>\n",
       "      <td>0.2</td>\n",
       "      <td>Iris-setosa</td>\n",
       "    </tr>\n",
       "  </tbody>\n",
       "</table>\n",
       "</div>"
      ],
      "text/plain": [
       "   Id  SepalLengthCm  SepalWidthCm  PetalLengthCm  PetalWidthCm      Species\n",
       "0   1            5.1           3.5            1.4           0.2  Iris-setosa\n",
       "1   2            4.9           3.0            1.4           0.2  Iris-setosa\n",
       "2   3            4.7           3.2            1.3           0.2  Iris-setosa"
      ]
     },
     "execution_count": 16,
     "metadata": {},
     "output_type": "execute_result"
    }
   ],
   "source": [
    "df2.head(3)\n"
   ]
  },
  {
   "cell_type": "code",
   "execution_count": 22,
   "metadata": {
    "colab": {
     "base_uri": "https://localhost:8080/"
    },
    "executionInfo": {
     "elapsed": 147,
     "status": "ok",
     "timestamp": 1638678880450,
     "user": {
      "displayName": "Abdullah Ghifari",
      "photoUrl": "https://lh3.googleusercontent.com/a-/AOh14Gi_wxBHhERLa5vUWkqgMzTiwmVI3rz_PbwpPfG8=s64",
      "userId": "10253831078468040701"
     },
     "user_tz": -420
    },
    "id": "mFXHAu0f1Qss",
    "outputId": "ce1d44a6-2a3e-48f6-8ddd-d27f89efb43f"
   },
   "outputs": [
    {
     "data": {
      "text/plain": [
       "Species\n",
       "Iris-setosa        3.418\n",
       "Iris-versicolor    2.770\n",
       "Iris-virginica     2.974\n",
       "Name: SepalWidthCm, dtype: float64"
      ]
     },
     "execution_count": 22,
     "metadata": {},
     "output_type": "execute_result"
    }
   ],
   "source": [
    "df2.groupby(['Species'])['SepalWidthCm'].mean()"
   ]
  },
  {
   "cell_type": "code",
   "execution_count": 23,
   "metadata": {
    "executionInfo": {
     "elapsed": 146,
     "status": "ok",
     "timestamp": 1638678880451,
     "user": {
      "displayName": "Abdullah Ghifari",
      "photoUrl": "https://lh3.googleusercontent.com/a-/AOh14Gi_wxBHhERLa5vUWkqgMzTiwmVI3rz_PbwpPfG8=s64",
      "userId": "10253831078468040701"
     },
     "user_tz": -420
    },
    "id": "PzYVlw0e1Qss"
   },
   "outputs": [],
   "source": [
    "# Langkah 3\n",
    "anova = st.f_oneway(df_versicolor['SepalWidthCm'],df_setosa['SepalWidthCm'],df_virginica['SepalWidthCm'])"
   ]
  },
  {
   "cell_type": "code",
   "execution_count": 27,
   "metadata": {
    "colab": {
     "base_uri": "https://localhost:8080/"
    },
    "executionInfo": {
     "elapsed": 273,
     "status": "ok",
     "timestamp": 1638678963739,
     "user": {
      "displayName": "Abdullah Ghifari",
      "photoUrl": "https://lh3.googleusercontent.com/a-/AOh14Gi_wxBHhERLa5vUWkqgMzTiwmVI3rz_PbwpPfG8=s64",
      "userId": "10253831078468040701"
     },
     "user_tz": -420
    },
    "id": "aJGpG4h93ldu",
    "outputId": "006fd7b3-5bf2-42f1-e10f-145b2971ab2a"
   },
   "outputs": [
    {
     "name": "stdout",
     "output_type": "stream",
     "text": [
      "1.3279165184572242e-16\n",
      "Sufficient Reject H0\n"
     ]
    }
   ],
   "source": [
    "pvalue = anova.pvalue\n",
    "print(pvalue)\n",
    "if pvalue >= 0.05:\n",
    "  print('Insufficient Reject H0')\n",
    "else:\n",
    "  print('Sufficient Reject H0')"
   ]
  },
  {
   "cell_type": "markdown",
   "metadata": {},
   "source": [
    "### ANOVA"
   ]
  },
  {
   "cell_type": "code",
   "execution_count": 17,
   "metadata": {},
   "outputs": [
    {
     "data": {
      "text/html": [
       "<div>\n",
       "<style scoped>\n",
       "    .dataframe tbody tr th:only-of-type {\n",
       "        vertical-align: middle;\n",
       "    }\n",
       "\n",
       "    .dataframe tbody tr th {\n",
       "        vertical-align: top;\n",
       "    }\n",
       "\n",
       "    .dataframe thead th {\n",
       "        text-align: right;\n",
       "    }\n",
       "</style>\n",
       "<table border=\"1\" class=\"dataframe\">\n",
       "  <thead>\n",
       "    <tr style=\"text-align: right;\">\n",
       "      <th></th>\n",
       "      <th>Id</th>\n",
       "      <th>SepalLengthCm</th>\n",
       "      <th>SepalWidthCm</th>\n",
       "      <th>PetalLengthCm</th>\n",
       "      <th>PetalWidthCm</th>\n",
       "      <th>Species</th>\n",
       "    </tr>\n",
       "  </thead>\n",
       "  <tbody>\n",
       "    <tr>\n",
       "      <th>0</th>\n",
       "      <td>1</td>\n",
       "      <td>5.1</td>\n",
       "      <td>3.5</td>\n",
       "      <td>1.4</td>\n",
       "      <td>0.2</td>\n",
       "      <td>Iris-setosa</td>\n",
       "    </tr>\n",
       "    <tr>\n",
       "      <th>1</th>\n",
       "      <td>2</td>\n",
       "      <td>4.9</td>\n",
       "      <td>3.0</td>\n",
       "      <td>1.4</td>\n",
       "      <td>0.2</td>\n",
       "      <td>Iris-setosa</td>\n",
       "    </tr>\n",
       "    <tr>\n",
       "      <th>2</th>\n",
       "      <td>3</td>\n",
       "      <td>4.7</td>\n",
       "      <td>3.2</td>\n",
       "      <td>1.3</td>\n",
       "      <td>0.2</td>\n",
       "      <td>Iris-setosa</td>\n",
       "    </tr>\n",
       "    <tr>\n",
       "      <th>3</th>\n",
       "      <td>4</td>\n",
       "      <td>4.6</td>\n",
       "      <td>3.1</td>\n",
       "      <td>1.5</td>\n",
       "      <td>0.2</td>\n",
       "      <td>Iris-setosa</td>\n",
       "    </tr>\n",
       "    <tr>\n",
       "      <th>4</th>\n",
       "      <td>5</td>\n",
       "      <td>5.0</td>\n",
       "      <td>3.6</td>\n",
       "      <td>1.4</td>\n",
       "      <td>0.2</td>\n",
       "      <td>Iris-setosa</td>\n",
       "    </tr>\n",
       "    <tr>\n",
       "      <th>...</th>\n",
       "      <td>...</td>\n",
       "      <td>...</td>\n",
       "      <td>...</td>\n",
       "      <td>...</td>\n",
       "      <td>...</td>\n",
       "      <td>...</td>\n",
       "    </tr>\n",
       "    <tr>\n",
       "      <th>145</th>\n",
       "      <td>146</td>\n",
       "      <td>6.7</td>\n",
       "      <td>3.0</td>\n",
       "      <td>5.2</td>\n",
       "      <td>2.3</td>\n",
       "      <td>Iris-virginica</td>\n",
       "    </tr>\n",
       "    <tr>\n",
       "      <th>146</th>\n",
       "      <td>147</td>\n",
       "      <td>6.3</td>\n",
       "      <td>2.5</td>\n",
       "      <td>5.0</td>\n",
       "      <td>1.9</td>\n",
       "      <td>Iris-virginica</td>\n",
       "    </tr>\n",
       "    <tr>\n",
       "      <th>147</th>\n",
       "      <td>148</td>\n",
       "      <td>6.5</td>\n",
       "      <td>3.0</td>\n",
       "      <td>5.2</td>\n",
       "      <td>2.0</td>\n",
       "      <td>Iris-virginica</td>\n",
       "    </tr>\n",
       "    <tr>\n",
       "      <th>148</th>\n",
       "      <td>149</td>\n",
       "      <td>6.2</td>\n",
       "      <td>3.4</td>\n",
       "      <td>5.4</td>\n",
       "      <td>2.3</td>\n",
       "      <td>Iris-virginica</td>\n",
       "    </tr>\n",
       "    <tr>\n",
       "      <th>149</th>\n",
       "      <td>150</td>\n",
       "      <td>5.9</td>\n",
       "      <td>3.0</td>\n",
       "      <td>5.1</td>\n",
       "      <td>1.8</td>\n",
       "      <td>Iris-virginica</td>\n",
       "    </tr>\n",
       "  </tbody>\n",
       "</table>\n",
       "<p>150 rows × 6 columns</p>\n",
       "</div>"
      ],
      "text/plain": [
       "      Id  SepalLengthCm  SepalWidthCm  PetalLengthCm  PetalWidthCm  \\\n",
       "0      1            5.1           3.5            1.4           0.2   \n",
       "1      2            4.9           3.0            1.4           0.2   \n",
       "2      3            4.7           3.2            1.3           0.2   \n",
       "3      4            4.6           3.1            1.5           0.2   \n",
       "4      5            5.0           3.6            1.4           0.2   \n",
       "..   ...            ...           ...            ...           ...   \n",
       "145  146            6.7           3.0            5.2           2.3   \n",
       "146  147            6.3           2.5            5.0           1.9   \n",
       "147  148            6.5           3.0            5.2           2.0   \n",
       "148  149            6.2           3.4            5.4           2.3   \n",
       "149  150            5.9           3.0            5.1           1.8   \n",
       "\n",
       "            Species  \n",
       "0       Iris-setosa  \n",
       "1       Iris-setosa  \n",
       "2       Iris-setosa  \n",
       "3       Iris-setosa  \n",
       "4       Iris-setosa  \n",
       "..              ...  \n",
       "145  Iris-virginica  \n",
       "146  Iris-virginica  \n",
       "147  Iris-virginica  \n",
       "148  Iris-virginica  \n",
       "149  Iris-virginica  \n",
       "\n",
       "[150 rows x 6 columns]"
      ]
     },
     "execution_count": 17,
     "metadata": {},
     "output_type": "execute_result"
    }
   ],
   "source": [
    "df_nova = pd.read_csv('Iris.csv')\n",
    "df_nova"
   ]
  },
  {
   "cell_type": "markdown",
   "metadata": {},
   "source": [
    "apakah ada perbedaan sigifikan antara masing-masing species untuk panjang sepal length ?"
   ]
  },
  {
   "cell_type": "markdown",
   "metadata": {},
   "source": [
    "## Langkah 1"
   ]
  },
  {
   "cell_type": "markdown",
   "metadata": {},
   "source": [
    "H0 : Rata-rata panjang sepal length **sama** unutk masing - masing species <br>\n",
    "H1 : Terdapat sepasng species yang panjang sepal length **berbeda signifikan** "
   ]
  },
  {
   "cell_type": "code",
   "execution_count": 19,
   "metadata": {},
   "outputs": [],
   "source": [
    "#pisahkan masing-masing speciesnya\n",
    "df_versicolor = df_nova[df_nova['Species'] == 'Iris-versicolor']\n",
    "df_setosa = df_nova[df_nova['Species'] == 'Iris-setosa']\n",
    "df_virginica = df_nova[df_nova['Species'] == 'Iris-virginica']"
   ]
  },
  {
   "cell_type": "markdown",
   "metadata": {},
   "source": [
    "## Langkah 2"
   ]
  },
  {
   "cell_type": "code",
   "execution_count": 20,
   "metadata": {},
   "outputs": [
    {
     "data": {
      "text/plain": [
       "5.936"
      ]
     },
     "execution_count": 20,
     "metadata": {},
     "output_type": "execute_result"
    }
   ],
   "source": [
    "#Lihat nilai nilai statiscal nya\n",
    "\n",
    "df_versicolor['SepalLengthCm'].mean()"
   ]
  },
  {
   "cell_type": "code",
   "execution_count": 21,
   "metadata": {},
   "outputs": [
    {
     "data": {
      "text/plain": [
       "5.005999999999999"
      ]
     },
     "execution_count": 21,
     "metadata": {},
     "output_type": "execute_result"
    }
   ],
   "source": [
    "df_setosa['SepalLengthCm'].mean()"
   ]
  },
  {
   "cell_type": "code",
   "execution_count": 22,
   "metadata": {},
   "outputs": [
    {
     "data": {
      "text/plain": [
       "6.587999999999998"
      ]
     },
     "execution_count": 22,
     "metadata": {},
     "output_type": "execute_result"
    }
   ],
   "source": [
    "df_virginica['SepalLengthCm'].mean()"
   ]
  },
  {
   "cell_type": "markdown",
   "metadata": {},
   "source": [
    "## Langkah 3"
   ]
  },
  {
   "cell_type": "code",
   "execution_count": 25,
   "metadata": {},
   "outputs": [],
   "source": [
    "anova_result = st.f_oneway(df_versicolor['SepalLengthCm'],\n",
    "           df_setosa['SepalLengthCm'],\n",
    "           df_virginica['SepalLengthCm'])"
   ]
  },
  {
   "cell_type": "code",
   "execution_count": 26,
   "metadata": {},
   "outputs": [
    {
     "data": {
      "text/plain": [
       "F_onewayResult(statistic=119.26450218450468, pvalue=1.6696691907693826e-31)"
      ]
     },
     "execution_count": 26,
     "metadata": {},
     "output_type": "execute_result"
    }
   ],
   "source": [
    "anova_result"
   ]
  },
  {
   "cell_type": "code",
   "execution_count": 28,
   "metadata": {},
   "outputs": [
    {
     "name": "stdout",
     "output_type": "stream",
     "text": [
      "P-value 1.6696691907693826e-31\n"
     ]
    }
   ],
   "source": [
    "pvalue = anova_result.pvalue\n",
    "print('P-value',pvalue)"
   ]
  },
  {
   "cell_type": "markdown",
   "metadata": {},
   "source": [
    "## Langkah 4"
   ]
  },
  {
   "cell_type": "code",
   "execution_count": 29,
   "metadata": {},
   "outputs": [
    {
     "name": "stdout",
     "output_type": "stream",
     "text": [
      "Terima H1 artinya cukup bukti menyatakan bahwa sepal length mampu membedakan species\n"
     ]
    }
   ],
   "source": [
    "if pvalue >= 0.05:\n",
    "    print('Terima H0 artinya tidak cukup bukti menyatakan bahwa sepal length mampu membedakan species')\n",
    "else :\n",
    "    print('Terima H1 artinya cukup bukti menyatakan bahwa sepal length mampu membedakan species')"
   ]
  },
  {
   "cell_type": "code",
   "execution_count": null,
   "metadata": {},
   "outputs": [],
   "source": []
  }
 ],
 "metadata": {
  "colab": {
   "collapsed_sections": [],
   "name": "Statistics III - Hypothesis Testing.ipynb",
   "provenance": []
  },
  "kernelspec": {
   "display_name": "Python 3 (ipykernel)",
   "language": "python",
   "name": "python3"
  },
  "language_info": {
   "codemirror_mode": {
    "name": "ipython",
    "version": 3
   },
   "file_extension": ".py",
   "mimetype": "text/x-python",
   "name": "python",
   "nbconvert_exporter": "python",
   "pygments_lexer": "ipython3",
   "version": "3.9.13"
  }
 },
 "nbformat": 4,
 "nbformat_minor": 4
}
